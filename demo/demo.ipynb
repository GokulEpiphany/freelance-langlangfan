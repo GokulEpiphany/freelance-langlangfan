{
 "cells": [
  {
   "cell_type": "markdown",
   "metadata": {},
   "source": [
    "# Overview of how OCR works\n",
    "1) Get all files from data folder\n",
    "\n",
    "2) Convert all pdf files into png images and save them to a temp folder\n",
    "\n",
    "3) Do ocr with tesseract for seperate languages using their respective trained model\n",
    "\n",
    "# Installation\n",
    "\n",
    "Refer to readme.md at the github\n",
    "\n",
    "# Dependent libraries : Wand, tesseract, tesserocr (python binding for tesseract)\n",
    "\n"
   ]
  },
  {
   "cell_type": "code",
   "execution_count": 1,
   "metadata": {},
   "outputs": [],
   "source": [
    "import sys\n",
    "sys.path.append('/home/ubuntu/freelance-langlangfan/utils/')\n",
    "import os\n",
    "from wand.image import Image as Img\n",
    "import pandas as pd"
   ]
  },
  {
   "cell_type": "code",
   "execution_count": 2,
   "metadata": {},
   "outputs": [],
   "source": [
    "from utils import ocr_from_file_path,convert_pdf_to_png"
   ]
  },
  {
   "cell_type": "code",
   "execution_count": 3,
   "metadata": {},
   "outputs": [],
   "source": [
    "file_path='/home/ubuntu/freelance-langlangfan/demo/data/'"
   ]
  },
  {
   "cell_type": "code",
   "execution_count": 4,
   "metadata": {},
   "outputs": [],
   "source": [
    "jpg_path='/home/ubuntu/freelance-langlangfan/demo/data/converted/'"
   ]
  },
  {
   "cell_type": "code",
   "execution_count": 5,
   "metadata": {},
   "outputs": [],
   "source": [
    "file_names = os.listdir(file_path)"
   ]
  },
  {
   "cell_type": "code",
   "execution_count": 6,
   "metadata": {},
   "outputs": [],
   "source": [
    "for file_name in file_names:\n",
    "    if file_name.endswith('.pdf'):\n",
    "        name_to_save = file_name[0:len(file_name) - 4]+'.jpg'\n",
    "        full_path=file_path+file_name\n",
    "        with Img(filename=full_path, resolution=300) as img:\n",
    "            img.compression_quality = 99\n",
    "            temp_name = jpg_path+'/'+name_to_save\n",
    "            img.save(filename=temp_name)\n",
    "\n",
    "        "
   ]
  },
  {
   "cell_type": "code",
   "execution_count": 7,
   "metadata": {},
   "outputs": [],
   "source": [
    "image_files = os.listdir(jpg_path)"
   ]
  },
  {
   "cell_type": "code",
   "execution_count": 8,
   "metadata": {},
   "outputs": [],
   "source": [
    "df = pd.DataFrame(columns=['file_name','eng','polish','german'])"
   ]
  },
  {
   "cell_type": "code",
   "execution_count": 10,
   "metadata": {},
   "outputs": [
    {
     "name": "stdout",
     "output_type": "stream",
     "text": [
      "Image file 1.jpg\n",
      "English conversion\n",
      "Performing OCR\n",
      "German conversion\n",
      "Performing OCR\n",
      "Polish conversion\n",
      "Performing OCR\n",
      "Image file 2.jpg\n",
      "English conversion\n",
      "Performing OCR\n",
      "German conversion\n",
      "Performing OCR\n",
      "Polish conversion\n",
      "Performing OCR\n",
      "Image file 3.jpg\n",
      "English conversion\n",
      "Performing OCR\n",
      "German conversion\n",
      "Performing OCR\n",
      "Polish conversion\n",
      "Performing OCR\n"
     ]
    }
   ],
   "source": [
    "count=0\n",
    "for image_file in image_files:\n",
    "    print(\"Image file \"+image_file)\n",
    "    image_file_path=jpg_path+image_file\n",
    "    print('English conversion')\n",
    "    eng_text = ocr_from_file_path(image_file_path,'eng')\n",
    "    print('German conversion')\n",
    "    ger_text = ocr_from_file_path(image_file_path,'deu')\n",
    "    print('Polish conversion')\n",
    "    pol_text = ocr_from_file_path(image_file_path,'pol')\n",
    "    \n",
    "    df.loc[count,'file_name']=image_file\n",
    "    df.loc[count,'eng']=eng_text\n",
    "    df.loc[count,'german']=ger_text\n",
    "    df.loc[count,'polish']=pol_text\n",
    "    print(\"*******************************\")\n",
    "    \n",
    "    count=count+1\n",
    "    \n",
    "    #Syntax to doing all in one ocr_from_file_path(image_file_path,'eng+deu+pol')\n",
    "    "
   ]
  },
  {
   "cell_type": "code",
   "execution_count": 11,
   "metadata": {},
   "outputs": [],
   "source": [
    "#Convert to csv and store it\n",
    "df.to_csv('result.csv',index=False)\n",
    "\n"
   ]
  },
  {
   "cell_type": "code",
   "execution_count": null,
   "metadata": {},
   "outputs": [],
   "source": []
  }
 ],
 "metadata": {
  "kernelspec": {
   "display_name": "Python 3",
   "language": "python",
   "name": "python3"
  },
  "language_info": {
   "codemirror_mode": {
    "name": "ipython",
    "version": 3
   },
   "file_extension": ".py",
   "mimetype": "text/x-python",
   "name": "python",
   "nbconvert_exporter": "python",
   "pygments_lexer": "ipython3",
   "version": "3.6.5"
  }
 },
 "nbformat": 4,
 "nbformat_minor": 2
}
